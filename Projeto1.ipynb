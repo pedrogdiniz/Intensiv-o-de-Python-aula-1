{
  "nbformat": 4,
  "nbformat_minor": 0,
  "metadata": {
    "colab": {
      "name": "Projeto1.ipynb",
      "provenance": [],
      "mount_file_id": "1JyTvsb2SnNqy3iqkdrarnqIw7vt_22e2",
      "authorship_tag": "ABX9TyMZHmJUhHw+ZxhlGf9dylzR",
      "include_colab_link": true
    },
    "kernelspec": {
      "name": "python3",
      "display_name": "Python 3"
    }
  },
  "cells": [
    {
      "cell_type": "markdown",
      "metadata": {
        "id": "view-in-github",
        "colab_type": "text"
      },
      "source": [
        "<a href=\"https://colab.research.google.com/github/pedrogdiniz/Intensiv-o-de-Python-aula-1/blob/main/Projeto1.ipynb\" target=\"_parent\"><img src=\"https://colab.research.google.com/assets/colab-badge.svg\" alt=\"Open In Colab\"/></a>"
      ]
    },
    {
      "cell_type": "code",
      "metadata": {
        "colab": {
          "base_uri": "https://localhost:8080/",
          "height": 221
        },
        "id": "9pCLUoou-Xeq",
        "outputId": "405f4762-53a5-4989-e297-e28417944b22"
      },
      "source": [
        "import pandas as pd \n",
        "# importar base de dados\n",
        "tabela_vendas = pd.read_excel(\"/content/drive/MyDrive/Colab Notebooks/Vendas.xlsx\")\n",
        "\n",
        "tabela_vendas.head()\n"
      ],
      "execution_count": 4,
      "outputs": [
        {
          "output_type": "execute_result",
          "data": {
            "text/html": [
              "<div>\n",
              "<style scoped>\n",
              "    .dataframe tbody tr th:only-of-type {\n",
              "        vertical-align: middle;\n",
              "    }\n",
              "\n",
              "    .dataframe tbody tr th {\n",
              "        vertical-align: top;\n",
              "    }\n",
              "\n",
              "    .dataframe thead th {\n",
              "        text-align: right;\n",
              "    }\n",
              "</style>\n",
              "<table border=\"1\" class=\"dataframe\">\n",
              "  <thead>\n",
              "    <tr style=\"text-align: right;\">\n",
              "      <th></th>\n",
              "      <th>Código Venda</th>\n",
              "      <th>Data</th>\n",
              "      <th>ID Loja</th>\n",
              "      <th>Produto</th>\n",
              "      <th>Quantidade</th>\n",
              "      <th>Valor Unitário</th>\n",
              "      <th>Valor Final</th>\n",
              "    </tr>\n",
              "  </thead>\n",
              "  <tbody>\n",
              "    <tr>\n",
              "      <th>0</th>\n",
              "      <td>1</td>\n",
              "      <td>2019-01-01</td>\n",
              "      <td>Iguatemi Esplanada</td>\n",
              "      <td>Sapato Estampa</td>\n",
              "      <td>1</td>\n",
              "      <td>358</td>\n",
              "      <td>358</td>\n",
              "    </tr>\n",
              "    <tr>\n",
              "      <th>1</th>\n",
              "      <td>1</td>\n",
              "      <td>2019-01-01</td>\n",
              "      <td>Iguatemi Esplanada</td>\n",
              "      <td>Camiseta</td>\n",
              "      <td>2</td>\n",
              "      <td>180</td>\n",
              "      <td>360</td>\n",
              "    </tr>\n",
              "    <tr>\n",
              "      <th>2</th>\n",
              "      <td>1</td>\n",
              "      <td>2019-01-01</td>\n",
              "      <td>Iguatemi Esplanada</td>\n",
              "      <td>Sapato Xadrez</td>\n",
              "      <td>1</td>\n",
              "      <td>368</td>\n",
              "      <td>368</td>\n",
              "    </tr>\n",
              "    <tr>\n",
              "      <th>3</th>\n",
              "      <td>2</td>\n",
              "      <td>2019-01-02</td>\n",
              "      <td>Norte Shopping</td>\n",
              "      <td>Relógio</td>\n",
              "      <td>3</td>\n",
              "      <td>200</td>\n",
              "      <td>600</td>\n",
              "    </tr>\n",
              "    <tr>\n",
              "      <th>4</th>\n",
              "      <td>2</td>\n",
              "      <td>2019-01-02</td>\n",
              "      <td>Norte Shopping</td>\n",
              "      <td>Chinelo Liso</td>\n",
              "      <td>1</td>\n",
              "      <td>71</td>\n",
              "      <td>71</td>\n",
              "    </tr>\n",
              "  </tbody>\n",
              "</table>\n",
              "</div>"
            ],
            "text/plain": [
              "   Código Venda       Data  ... Valor Unitário Valor Final\n",
              "0             1 2019-01-01  ...            358         358\n",
              "1             1 2019-01-01  ...            180         360\n",
              "2             1 2019-01-01  ...            368         368\n",
              "3             2 2019-01-02  ...            200         600\n",
              "4             2 2019-01-02  ...             71          71\n",
              "\n",
              "[5 rows x 7 columns]"
            ]
          },
          "metadata": {
            "tags": []
          },
          "execution_count": 4
        }
      ]
    },
    {
      "cell_type": "code",
      "metadata": {
        "colab": {
          "base_uri": "https://localhost:8080/",
          "height": 855
        },
        "id": "OddRuFUnFNMG",
        "outputId": "309f5079-fb2f-495d-f73d-dd9ada951f16"
      },
      "source": [
        "# calcuclar faturamento\n",
        "\n",
        "tabela_faturamento = tabela_vendas[[\"ID Loja\",\"Valor Final\"]].groupby(\"ID Loja\").sum()\n",
        "ranking_faturamento = tabela_faturamento.sort_values(by= \"Valor Final\", ascending=False)\n",
        "display(ranking_faturamento)"
      ],
      "execution_count": 11,
      "outputs": [
        {
          "output_type": "display_data",
          "data": {
            "text/html": [
              "<div>\n",
              "<style scoped>\n",
              "    .dataframe tbody tr th:only-of-type {\n",
              "        vertical-align: middle;\n",
              "    }\n",
              "\n",
              "    .dataframe tbody tr th {\n",
              "        vertical-align: top;\n",
              "    }\n",
              "\n",
              "    .dataframe thead th {\n",
              "        text-align: right;\n",
              "    }\n",
              "</style>\n",
              "<table border=\"1\" class=\"dataframe\">\n",
              "  <thead>\n",
              "    <tr style=\"text-align: right;\">\n",
              "      <th></th>\n",
              "      <th>Valor Final</th>\n",
              "    </tr>\n",
              "    <tr>\n",
              "      <th>ID Loja</th>\n",
              "      <th></th>\n",
              "    </tr>\n",
              "  </thead>\n",
              "  <tbody>\n",
              "    <tr>\n",
              "      <th>Iguatemi Campinas</th>\n",
              "      <td>1762419</td>\n",
              "    </tr>\n",
              "    <tr>\n",
              "      <th>Shopping Vila Velha</th>\n",
              "      <td>1731167</td>\n",
              "    </tr>\n",
              "    <tr>\n",
              "      <th>Bourbon Shopping SP</th>\n",
              "      <td>1726110</td>\n",
              "    </tr>\n",
              "    <tr>\n",
              "      <th>Rio Mar Recife</th>\n",
              "      <td>1722766</td>\n",
              "    </tr>\n",
              "    <tr>\n",
              "      <th>Shopping SP Market</th>\n",
              "      <td>1721763</td>\n",
              "    </tr>\n",
              "    <tr>\n",
              "      <th>Palladium Shopping Curitiba</th>\n",
              "      <td>1721120</td>\n",
              "    </tr>\n",
              "    <tr>\n",
              "      <th>Norte Shopping</th>\n",
              "      <td>1711968</td>\n",
              "    </tr>\n",
              "    <tr>\n",
              "      <th>Ribeirão Shopping</th>\n",
              "      <td>1707122</td>\n",
              "    </tr>\n",
              "    <tr>\n",
              "      <th>Iguatemi Esplanada</th>\n",
              "      <td>1699681</td>\n",
              "    </tr>\n",
              "    <tr>\n",
              "      <th>Rio Mar Shopping Fortaleza</th>\n",
              "      <td>1698430</td>\n",
              "    </tr>\n",
              "    <tr>\n",
              "      <th>Shopping Center Leste Aricanduva</th>\n",
              "      <td>1682870</td>\n",
              "    </tr>\n",
              "    <tr>\n",
              "      <th>Novo Shopping Ribeirão Preto</th>\n",
              "      <td>1678225</td>\n",
              "    </tr>\n",
              "    <tr>\n",
              "      <th>Shopping Iguatemi Fortaleza</th>\n",
              "      <td>1674824</td>\n",
              "    </tr>\n",
              "    <tr>\n",
              "      <th>Center Shopping Uberlândia</th>\n",
              "      <td>1668921</td>\n",
              "    </tr>\n",
              "    <tr>\n",
              "      <th>Shopping União de Osasco</th>\n",
              "      <td>1663770</td>\n",
              "    </tr>\n",
              "    <tr>\n",
              "      <th>Shopping Barra</th>\n",
              "      <td>1653103</td>\n",
              "    </tr>\n",
              "    <tr>\n",
              "      <th>Passei das Águas Shopping</th>\n",
              "      <td>1649014</td>\n",
              "    </tr>\n",
              "    <tr>\n",
              "      <th>Shopping Eldorado</th>\n",
              "      <td>1648111</td>\n",
              "    </tr>\n",
              "    <tr>\n",
              "      <th>Salvador Shopping</th>\n",
              "      <td>1646739</td>\n",
              "    </tr>\n",
              "    <tr>\n",
              "      <th>Shopping Center Interlagos</th>\n",
              "      <td>1640486</td>\n",
              "    </tr>\n",
              "    <tr>\n",
              "      <th>Shopping Ibirapuera</th>\n",
              "      <td>1635060</td>\n",
              "    </tr>\n",
              "    <tr>\n",
              "      <th>Parque Dom Pedro Shopping</th>\n",
              "      <td>1631630</td>\n",
              "    </tr>\n",
              "    <tr>\n",
              "      <th>Shopping Recife</th>\n",
              "      <td>1624879</td>\n",
              "    </tr>\n",
              "    <tr>\n",
              "      <th>Shopping Midway Mall</th>\n",
              "      <td>1590441</td>\n",
              "    </tr>\n",
              "    <tr>\n",
              "      <th>Shopping Morumbi</th>\n",
              "      <td>1586444</td>\n",
              "    </tr>\n",
              "  </tbody>\n",
              "</table>\n",
              "</div>"
            ],
            "text/plain": [
              "                                  Valor Final\n",
              "ID Loja                                      \n",
              "Iguatemi Campinas                     1762419\n",
              "Shopping Vila Velha                   1731167\n",
              "Bourbon Shopping SP                   1726110\n",
              "Rio Mar Recife                        1722766\n",
              "Shopping SP Market                    1721763\n",
              "Palladium Shopping Curitiba           1721120\n",
              "Norte Shopping                        1711968\n",
              "Ribeirão Shopping                     1707122\n",
              "Iguatemi Esplanada                    1699681\n",
              "Rio Mar Shopping Fortaleza            1698430\n",
              "Shopping Center Leste Aricanduva      1682870\n",
              "Novo Shopping Ribeirão Preto          1678225\n",
              "Shopping Iguatemi Fortaleza           1674824\n",
              "Center Shopping Uberlândia            1668921\n",
              "Shopping União de Osasco              1663770\n",
              "Shopping Barra                        1653103\n",
              "Passei das Águas Shopping             1649014\n",
              "Shopping Eldorado                     1648111\n",
              "Salvador Shopping                     1646739\n",
              "Shopping Center Interlagos            1640486\n",
              "Shopping Ibirapuera                   1635060\n",
              "Parque Dom Pedro Shopping             1631630\n",
              "Shopping Recife                       1624879\n",
              "Shopping Midway Mall                  1590441\n",
              "Shopping Morumbi                      1586444"
            ]
          },
          "metadata": {
            "tags": []
          }
        }
      ]
    },
    {
      "cell_type": "code",
      "metadata": {
        "colab": {
          "base_uri": "https://localhost:8080/",
          "height": 235
        },
        "id": "a2rmvr-9FRn4",
        "outputId": "ea816c18-f64a-4243-f13b-e76b66781b36"
      },
      "source": [
        "# produtos vendidos por loja \n",
        "produtos_vendidos = tabela_vendas[[\"ID Loja\",\"Quantidade\"]].groupby(\"ID Loja\").sum()\n",
        "\n",
        "produtos_vendidos.head()"
      ],
      "execution_count": 12,
      "outputs": [
        {
          "output_type": "execute_result",
          "data": {
            "text/html": [
              "<div>\n",
              "<style scoped>\n",
              "    .dataframe tbody tr th:only-of-type {\n",
              "        vertical-align: middle;\n",
              "    }\n",
              "\n",
              "    .dataframe tbody tr th {\n",
              "        vertical-align: top;\n",
              "    }\n",
              "\n",
              "    .dataframe thead th {\n",
              "        text-align: right;\n",
              "    }\n",
              "</style>\n",
              "<table border=\"1\" class=\"dataframe\">\n",
              "  <thead>\n",
              "    <tr style=\"text-align: right;\">\n",
              "      <th></th>\n",
              "      <th>Quantidade</th>\n",
              "    </tr>\n",
              "    <tr>\n",
              "      <th>ID Loja</th>\n",
              "      <th></th>\n",
              "    </tr>\n",
              "  </thead>\n",
              "  <tbody>\n",
              "    <tr>\n",
              "      <th>Bourbon Shopping SP</th>\n",
              "      <td>8863</td>\n",
              "    </tr>\n",
              "    <tr>\n",
              "      <th>Center Shopping Uberlândia</th>\n",
              "      <td>8627</td>\n",
              "    </tr>\n",
              "    <tr>\n",
              "      <th>Iguatemi Campinas</th>\n",
              "      <td>8935</td>\n",
              "    </tr>\n",
              "    <tr>\n",
              "      <th>Iguatemi Esplanada</th>\n",
              "      <td>8580</td>\n",
              "    </tr>\n",
              "    <tr>\n",
              "      <th>Norte Shopping</th>\n",
              "      <td>9014</td>\n",
              "    </tr>\n",
              "  </tbody>\n",
              "</table>\n",
              "</div>"
            ],
            "text/plain": [
              "                            Quantidade\n",
              "ID Loja                               \n",
              "Bourbon Shopping SP               8863\n",
              "Center Shopping Uberlândia        8627\n",
              "Iguatemi Campinas                 8935\n",
              "Iguatemi Esplanada                8580\n",
              "Norte Shopping                    9014"
            ]
          },
          "metadata": {
            "tags": []
          },
          "execution_count": 12
        }
      ]
    },
    {
      "cell_type": "code",
      "metadata": {
        "colab": {
          "base_uri": "https://localhost:8080/",
          "height": 235
        },
        "id": "nP6T4NxdFTt2",
        "outputId": "baf0967d-22ba-4af8-8f4b-1b839e92b1d2"
      },
      "source": [
        "# ticket medio por loja \n",
        "ticket_medio = (tabela_faturamento[\"Valor Final\"] / produtos_vendidos[\"Quantidade\"]).to_frame()\n",
        "# arredondar valores \n",
        "ticket_medio = round(ticket_medio, 2)\n",
        "# renomear colunas\n",
        "ticket_medio= ticket_medio.rename(columns={0: \"Ticket Médio\"})\n",
        "ticket_medio.head()"
      ],
      "execution_count": 20,
      "outputs": [
        {
          "output_type": "execute_result",
          "data": {
            "text/html": [
              "<div>\n",
              "<style scoped>\n",
              "    .dataframe tbody tr th:only-of-type {\n",
              "        vertical-align: middle;\n",
              "    }\n",
              "\n",
              "    .dataframe tbody tr th {\n",
              "        vertical-align: top;\n",
              "    }\n",
              "\n",
              "    .dataframe thead th {\n",
              "        text-align: right;\n",
              "    }\n",
              "</style>\n",
              "<table border=\"1\" class=\"dataframe\">\n",
              "  <thead>\n",
              "    <tr style=\"text-align: right;\">\n",
              "      <th></th>\n",
              "      <th>Ticket Médio</th>\n",
              "    </tr>\n",
              "    <tr>\n",
              "      <th>ID Loja</th>\n",
              "      <th></th>\n",
              "    </tr>\n",
              "  </thead>\n",
              "  <tbody>\n",
              "    <tr>\n",
              "      <th>Bourbon Shopping SP</th>\n",
              "      <td>194.75</td>\n",
              "    </tr>\n",
              "    <tr>\n",
              "      <th>Center Shopping Uberlândia</th>\n",
              "      <td>193.45</td>\n",
              "    </tr>\n",
              "    <tr>\n",
              "      <th>Iguatemi Campinas</th>\n",
              "      <td>197.25</td>\n",
              "    </tr>\n",
              "    <tr>\n",
              "      <th>Iguatemi Esplanada</th>\n",
              "      <td>198.10</td>\n",
              "    </tr>\n",
              "    <tr>\n",
              "      <th>Norte Shopping</th>\n",
              "      <td>189.92</td>\n",
              "    </tr>\n",
              "  </tbody>\n",
              "</table>\n",
              "</div>"
            ],
            "text/plain": [
              "                            Ticket Médio\n",
              "ID Loja                                 \n",
              "Bourbon Shopping SP               194.75\n",
              "Center Shopping Uberlândia        193.45\n",
              "Iguatemi Campinas                 197.25\n",
              "Iguatemi Esplanada                198.10\n",
              "Norte Shopping                    189.92"
            ]
          },
          "metadata": {
            "tags": []
          },
          "execution_count": 20
        }
      ]
    },
    {
      "cell_type": "code",
      "metadata": {
        "id": "iuDczA77MAMt"
      },
      "source": [
        "# Função enviar e-mail \n",
        "def enviar_email(nome_da_loja, tabela):\n",
        "  import smtplib\n",
        "  import email.message\n",
        "\n",
        "  server = smtplib.SMTP('smtp.gmail.com:587')  \n",
        "  corpo_email = f\"\"\"\n",
        "  <p> Prezado, </p>\n",
        "  <p> Segue relatório de vendas</p>\n",
        "  {tabela.to_html()}\n",
        "  <p> Obrigado </p>\n",
        "\n",
        "  \"\"\"\n",
        "    \n",
        "  msg = email.message.Message()\n",
        "  msg['Subject'] = f\"Relatório de Vendas - {nome_da_loja}\"\n",
        "    \n",
        "  # Fazer antes (apenas na 1ª vez): Ativar Aplicativos não Seguros.\n",
        "    # Gerenciar Conta Google -> Segurança -> Aplicativos não Seguros -> Habilitar\n",
        "  # Caso mesmo assim dê o erro: smtplib.SMTPAuthenticationError: (534,\n",
        "  # Você faz o login no seu e-mail e depois entra em: https://accounts.google.com/DisplayUnlockCaptcha\n",
        "  msg['From'] = 'pd.teste.29@gmail.com'\n",
        "  msg['To'] = 'pd.teste.29@gmail.com'\n",
        "  password = \"Pedro29!0\"\n",
        "  msg.add_header('Content-Type', 'text/html')\n",
        "  msg.set_payload(corpo_email )\n",
        "    \n",
        "  s = smtplib.SMTP('smtp.gmail.com: 587')\n",
        "  s.starttls()\n",
        "  # Login Credentials for sending the mail\n",
        "  s.login(msg['From'], password)\n",
        "  s.sendmail(msg['From'], [msg['To']], msg.as_string().encode('utf-8'))\n",
        "  print('Email enviado')"
      ],
      "execution_count": 26,
      "outputs": []
    },
    {
      "cell_type": "code",
      "metadata": {
        "id": "2WfNDSwcSuRS"
      },
      "source": [
        "# criar tabela completa \n",
        "tabela_completa = tabela_faturamento.join(produtos_vendidos).join(ticket_medio)\n"
      ],
      "execution_count": 30,
      "outputs": []
    },
    {
      "cell_type": "code",
      "metadata": {
        "colab": {
          "base_uri": "https://localhost:8080/"
        },
        "id": "GXFKC-QmFX4o",
        "outputId": "59595de0-fa87-42e4-b870-c5e7f3f39457"
      },
      "source": [
        "# enviar e-mail para diretoria\n",
        "enviar_email(\"Diretoria\", tabela_completa)"
      ],
      "execution_count": 31,
      "outputs": [
        {
          "output_type": "stream",
          "text": [
            "Email enviado\n"
          ],
          "name": "stdout"
        }
      ]
    },
    {
      "cell_type": "code",
      "metadata": {
        "colab": {
          "base_uri": "https://localhost:8080/",
          "height": 1000
        },
        "id": "UqEpOwEZFY-S",
        "outputId": "db14f909-9ef1-4b1e-e2f3-e33851d27d80"
      },
      "source": [
        "# enviar e-mail para cada loja \n",
        "lista_lojas = tabela_vendas[\"ID Loja\"].unique()\n",
        "\n",
        "for loja in lista_lojas:\n",
        "  tabela_loja = tabela_vendas.loc[tabela_vendas[\"ID Loja\"] == loja, [\"ID Loja\", \"Quantidade\", \"Valor Final\"]]\n",
        "  tabela_loja = tabela_loja.groupby(\"ID Loja\").sum()\n",
        "  tabela_loja[\"Ticket Médio\"] = round(tabela_loja[\"Valor Final\"] / tabela_loja[\"Quantidade\"], 2)\n",
        "  display(tabela_loja)\n",
        "\n",
        "  enviar_email(loja, tabela_loja)"
      ],
      "execution_count": 34,
      "outputs": [
        {
          "output_type": "display_data",
          "data": {
            "text/html": [
              "<div>\n",
              "<style scoped>\n",
              "    .dataframe tbody tr th:only-of-type {\n",
              "        vertical-align: middle;\n",
              "    }\n",
              "\n",
              "    .dataframe tbody tr th {\n",
              "        vertical-align: top;\n",
              "    }\n",
              "\n",
              "    .dataframe thead th {\n",
              "        text-align: right;\n",
              "    }\n",
              "</style>\n",
              "<table border=\"1\" class=\"dataframe\">\n",
              "  <thead>\n",
              "    <tr style=\"text-align: right;\">\n",
              "      <th></th>\n",
              "      <th>Quantidade</th>\n",
              "      <th>Valor Final</th>\n",
              "      <th>Ticket Médio</th>\n",
              "    </tr>\n",
              "    <tr>\n",
              "      <th>ID Loja</th>\n",
              "      <th></th>\n",
              "      <th></th>\n",
              "      <th></th>\n",
              "    </tr>\n",
              "  </thead>\n",
              "  <tbody>\n",
              "    <tr>\n",
              "      <th>Iguatemi Esplanada</th>\n",
              "      <td>8580</td>\n",
              "      <td>1699681</td>\n",
              "      <td>198.1</td>\n",
              "    </tr>\n",
              "  </tbody>\n",
              "</table>\n",
              "</div>"
            ],
            "text/plain": [
              "                    Quantidade  Valor Final  Ticket Médio\n",
              "ID Loja                                                  \n",
              "Iguatemi Esplanada        8580      1699681         198.1"
            ]
          },
          "metadata": {
            "tags": []
          }
        },
        {
          "output_type": "stream",
          "text": [
            "Email enviado\n"
          ],
          "name": "stdout"
        },
        {
          "output_type": "display_data",
          "data": {
            "text/html": [
              "<div>\n",
              "<style scoped>\n",
              "    .dataframe tbody tr th:only-of-type {\n",
              "        vertical-align: middle;\n",
              "    }\n",
              "\n",
              "    .dataframe tbody tr th {\n",
              "        vertical-align: top;\n",
              "    }\n",
              "\n",
              "    .dataframe thead th {\n",
              "        text-align: right;\n",
              "    }\n",
              "</style>\n",
              "<table border=\"1\" class=\"dataframe\">\n",
              "  <thead>\n",
              "    <tr style=\"text-align: right;\">\n",
              "      <th></th>\n",
              "      <th>Quantidade</th>\n",
              "      <th>Valor Final</th>\n",
              "      <th>Ticket Médio</th>\n",
              "    </tr>\n",
              "    <tr>\n",
              "      <th>ID Loja</th>\n",
              "      <th></th>\n",
              "      <th></th>\n",
              "      <th></th>\n",
              "    </tr>\n",
              "  </thead>\n",
              "  <tbody>\n",
              "    <tr>\n",
              "      <th>Norte Shopping</th>\n",
              "      <td>9014</td>\n",
              "      <td>1711968</td>\n",
              "      <td>189.92</td>\n",
              "    </tr>\n",
              "  </tbody>\n",
              "</table>\n",
              "</div>"
            ],
            "text/plain": [
              "                Quantidade  Valor Final  Ticket Médio\n",
              "ID Loja                                              \n",
              "Norte Shopping        9014      1711968        189.92"
            ]
          },
          "metadata": {
            "tags": []
          }
        },
        {
          "output_type": "stream",
          "text": [
            "Email enviado\n"
          ],
          "name": "stdout"
        },
        {
          "output_type": "display_data",
          "data": {
            "text/html": [
              "<div>\n",
              "<style scoped>\n",
              "    .dataframe tbody tr th:only-of-type {\n",
              "        vertical-align: middle;\n",
              "    }\n",
              "\n",
              "    .dataframe tbody tr th {\n",
              "        vertical-align: top;\n",
              "    }\n",
              "\n",
              "    .dataframe thead th {\n",
              "        text-align: right;\n",
              "    }\n",
              "</style>\n",
              "<table border=\"1\" class=\"dataframe\">\n",
              "  <thead>\n",
              "    <tr style=\"text-align: right;\">\n",
              "      <th></th>\n",
              "      <th>Quantidade</th>\n",
              "      <th>Valor Final</th>\n",
              "      <th>Ticket Médio</th>\n",
              "    </tr>\n",
              "    <tr>\n",
              "      <th>ID Loja</th>\n",
              "      <th></th>\n",
              "      <th></th>\n",
              "      <th></th>\n",
              "    </tr>\n",
              "  </thead>\n",
              "  <tbody>\n",
              "    <tr>\n",
              "      <th>Rio Mar Shopping Fortaleza</th>\n",
              "      <td>8937</td>\n",
              "      <td>1698430</td>\n",
              "      <td>190.04</td>\n",
              "    </tr>\n",
              "  </tbody>\n",
              "</table>\n",
              "</div>"
            ],
            "text/plain": [
              "                            Quantidade  Valor Final  Ticket Médio\n",
              "ID Loja                                                          \n",
              "Rio Mar Shopping Fortaleza        8937      1698430        190.04"
            ]
          },
          "metadata": {
            "tags": []
          }
        },
        {
          "output_type": "stream",
          "text": [
            "Email enviado\n"
          ],
          "name": "stdout"
        },
        {
          "output_type": "display_data",
          "data": {
            "text/html": [
              "<div>\n",
              "<style scoped>\n",
              "    .dataframe tbody tr th:only-of-type {\n",
              "        vertical-align: middle;\n",
              "    }\n",
              "\n",
              "    .dataframe tbody tr th {\n",
              "        vertical-align: top;\n",
              "    }\n",
              "\n",
              "    .dataframe thead th {\n",
              "        text-align: right;\n",
              "    }\n",
              "</style>\n",
              "<table border=\"1\" class=\"dataframe\">\n",
              "  <thead>\n",
              "    <tr style=\"text-align: right;\">\n",
              "      <th></th>\n",
              "      <th>Quantidade</th>\n",
              "      <th>Valor Final</th>\n",
              "      <th>Ticket Médio</th>\n",
              "    </tr>\n",
              "    <tr>\n",
              "      <th>ID Loja</th>\n",
              "      <th></th>\n",
              "      <th></th>\n",
              "      <th></th>\n",
              "    </tr>\n",
              "  </thead>\n",
              "  <tbody>\n",
              "    <tr>\n",
              "      <th>Shopping Barra</th>\n",
              "      <td>8638</td>\n",
              "      <td>1653103</td>\n",
              "      <td>191.38</td>\n",
              "    </tr>\n",
              "  </tbody>\n",
              "</table>\n",
              "</div>"
            ],
            "text/plain": [
              "                Quantidade  Valor Final  Ticket Médio\n",
              "ID Loja                                              \n",
              "Shopping Barra        8638      1653103        191.38"
            ]
          },
          "metadata": {
            "tags": []
          }
        },
        {
          "output_type": "stream",
          "text": [
            "Email enviado\n"
          ],
          "name": "stdout"
        },
        {
          "output_type": "display_data",
          "data": {
            "text/html": [
              "<div>\n",
              "<style scoped>\n",
              "    .dataframe tbody tr th:only-of-type {\n",
              "        vertical-align: middle;\n",
              "    }\n",
              "\n",
              "    .dataframe tbody tr th {\n",
              "        vertical-align: top;\n",
              "    }\n",
              "\n",
              "    .dataframe thead th {\n",
              "        text-align: right;\n",
              "    }\n",
              "</style>\n",
              "<table border=\"1\" class=\"dataframe\">\n",
              "  <thead>\n",
              "    <tr style=\"text-align: right;\">\n",
              "      <th></th>\n",
              "      <th>Quantidade</th>\n",
              "      <th>Valor Final</th>\n",
              "      <th>Ticket Médio</th>\n",
              "    </tr>\n",
              "    <tr>\n",
              "      <th>ID Loja</th>\n",
              "      <th></th>\n",
              "      <th></th>\n",
              "      <th></th>\n",
              "    </tr>\n",
              "  </thead>\n",
              "  <tbody>\n",
              "    <tr>\n",
              "      <th>Shopping Ibirapuera</th>\n",
              "      <td>8723</td>\n",
              "      <td>1635060</td>\n",
              "      <td>187.44</td>\n",
              "    </tr>\n",
              "  </tbody>\n",
              "</table>\n",
              "</div>"
            ],
            "text/plain": [
              "                     Quantidade  Valor Final  Ticket Médio\n",
              "ID Loja                                                   \n",
              "Shopping Ibirapuera        8723      1635060        187.44"
            ]
          },
          "metadata": {
            "tags": []
          }
        },
        {
          "output_type": "stream",
          "text": [
            "Email enviado\n"
          ],
          "name": "stdout"
        },
        {
          "output_type": "display_data",
          "data": {
            "text/html": [
              "<div>\n",
              "<style scoped>\n",
              "    .dataframe tbody tr th:only-of-type {\n",
              "        vertical-align: middle;\n",
              "    }\n",
              "\n",
              "    .dataframe tbody tr th {\n",
              "        vertical-align: top;\n",
              "    }\n",
              "\n",
              "    .dataframe thead th {\n",
              "        text-align: right;\n",
              "    }\n",
              "</style>\n",
              "<table border=\"1\" class=\"dataframe\">\n",
              "  <thead>\n",
              "    <tr style=\"text-align: right;\">\n",
              "      <th></th>\n",
              "      <th>Quantidade</th>\n",
              "      <th>Valor Final</th>\n",
              "      <th>Ticket Médio</th>\n",
              "    </tr>\n",
              "    <tr>\n",
              "      <th>ID Loja</th>\n",
              "      <th></th>\n",
              "      <th></th>\n",
              "      <th></th>\n",
              "    </tr>\n",
              "  </thead>\n",
              "  <tbody>\n",
              "    <tr>\n",
              "      <th>Iguatemi Campinas</th>\n",
              "      <td>8935</td>\n",
              "      <td>1762419</td>\n",
              "      <td>197.25</td>\n",
              "    </tr>\n",
              "  </tbody>\n",
              "</table>\n",
              "</div>"
            ],
            "text/plain": [
              "                   Quantidade  Valor Final  Ticket Médio\n",
              "ID Loja                                                 \n",
              "Iguatemi Campinas        8935      1762419        197.25"
            ]
          },
          "metadata": {
            "tags": []
          }
        },
        {
          "output_type": "stream",
          "text": [
            "Email enviado\n"
          ],
          "name": "stdout"
        },
        {
          "output_type": "display_data",
          "data": {
            "text/html": [
              "<div>\n",
              "<style scoped>\n",
              "    .dataframe tbody tr th:only-of-type {\n",
              "        vertical-align: middle;\n",
              "    }\n",
              "\n",
              "    .dataframe tbody tr th {\n",
              "        vertical-align: top;\n",
              "    }\n",
              "\n",
              "    .dataframe thead th {\n",
              "        text-align: right;\n",
              "    }\n",
              "</style>\n",
              "<table border=\"1\" class=\"dataframe\">\n",
              "  <thead>\n",
              "    <tr style=\"text-align: right;\">\n",
              "      <th></th>\n",
              "      <th>Quantidade</th>\n",
              "      <th>Valor Final</th>\n",
              "      <th>Ticket Médio</th>\n",
              "    </tr>\n",
              "    <tr>\n",
              "      <th>ID Loja</th>\n",
              "      <th></th>\n",
              "      <th></th>\n",
              "      <th></th>\n",
              "    </tr>\n",
              "  </thead>\n",
              "  <tbody>\n",
              "    <tr>\n",
              "      <th>Shopping Center Leste Aricanduva</th>\n",
              "      <td>8938</td>\n",
              "      <td>1682870</td>\n",
              "      <td>188.28</td>\n",
              "    </tr>\n",
              "  </tbody>\n",
              "</table>\n",
              "</div>"
            ],
            "text/plain": [
              "                                  Quantidade  Valor Final  Ticket Médio\n",
              "ID Loja                                                                \n",
              "Shopping Center Leste Aricanduva        8938      1682870        188.28"
            ]
          },
          "metadata": {
            "tags": []
          }
        },
        {
          "output_type": "stream",
          "text": [
            "Email enviado\n"
          ],
          "name": "stdout"
        },
        {
          "output_type": "display_data",
          "data": {
            "text/html": [
              "<div>\n",
              "<style scoped>\n",
              "    .dataframe tbody tr th:only-of-type {\n",
              "        vertical-align: middle;\n",
              "    }\n",
              "\n",
              "    .dataframe tbody tr th {\n",
              "        vertical-align: top;\n",
              "    }\n",
              "\n",
              "    .dataframe thead th {\n",
              "        text-align: right;\n",
              "    }\n",
              "</style>\n",
              "<table border=\"1\" class=\"dataframe\">\n",
              "  <thead>\n",
              "    <tr style=\"text-align: right;\">\n",
              "      <th></th>\n",
              "      <th>Quantidade</th>\n",
              "      <th>Valor Final</th>\n",
              "      <th>Ticket Médio</th>\n",
              "    </tr>\n",
              "    <tr>\n",
              "      <th>ID Loja</th>\n",
              "      <th></th>\n",
              "      <th></th>\n",
              "      <th></th>\n",
              "    </tr>\n",
              "  </thead>\n",
              "  <tbody>\n",
              "    <tr>\n",
              "      <th>Passei das Águas Shopping</th>\n",
              "      <td>8618</td>\n",
              "      <td>1649014</td>\n",
              "      <td>191.35</td>\n",
              "    </tr>\n",
              "  </tbody>\n",
              "</table>\n",
              "</div>"
            ],
            "text/plain": [
              "                           Quantidade  Valor Final  Ticket Médio\n",
              "ID Loja                                                         \n",
              "Passei das Águas Shopping        8618      1649014        191.35"
            ]
          },
          "metadata": {
            "tags": []
          }
        },
        {
          "output_type": "stream",
          "text": [
            "Email enviado\n"
          ],
          "name": "stdout"
        },
        {
          "output_type": "display_data",
          "data": {
            "text/html": [
              "<div>\n",
              "<style scoped>\n",
              "    .dataframe tbody tr th:only-of-type {\n",
              "        vertical-align: middle;\n",
              "    }\n",
              "\n",
              "    .dataframe tbody tr th {\n",
              "        vertical-align: top;\n",
              "    }\n",
              "\n",
              "    .dataframe thead th {\n",
              "        text-align: right;\n",
              "    }\n",
              "</style>\n",
              "<table border=\"1\" class=\"dataframe\">\n",
              "  <thead>\n",
              "    <tr style=\"text-align: right;\">\n",
              "      <th></th>\n",
              "      <th>Quantidade</th>\n",
              "      <th>Valor Final</th>\n",
              "      <th>Ticket Médio</th>\n",
              "    </tr>\n",
              "    <tr>\n",
              "      <th>ID Loja</th>\n",
              "      <th></th>\n",
              "      <th></th>\n",
              "      <th></th>\n",
              "    </tr>\n",
              "  </thead>\n",
              "  <tbody>\n",
              "    <tr>\n",
              "      <th>Shopping Recife</th>\n",
              "      <td>8581</td>\n",
              "      <td>1624879</td>\n",
              "      <td>189.36</td>\n",
              "    </tr>\n",
              "  </tbody>\n",
              "</table>\n",
              "</div>"
            ],
            "text/plain": [
              "                 Quantidade  Valor Final  Ticket Médio\n",
              "ID Loja                                               \n",
              "Shopping Recife        8581      1624879        189.36"
            ]
          },
          "metadata": {
            "tags": []
          }
        },
        {
          "output_type": "stream",
          "text": [
            "Email enviado\n"
          ],
          "name": "stdout"
        },
        {
          "output_type": "display_data",
          "data": {
            "text/html": [
              "<div>\n",
              "<style scoped>\n",
              "    .dataframe tbody tr th:only-of-type {\n",
              "        vertical-align: middle;\n",
              "    }\n",
              "\n",
              "    .dataframe tbody tr th {\n",
              "        vertical-align: top;\n",
              "    }\n",
              "\n",
              "    .dataframe thead th {\n",
              "        text-align: right;\n",
              "    }\n",
              "</style>\n",
              "<table border=\"1\" class=\"dataframe\">\n",
              "  <thead>\n",
              "    <tr style=\"text-align: right;\">\n",
              "      <th></th>\n",
              "      <th>Quantidade</th>\n",
              "      <th>Valor Final</th>\n",
              "      <th>Ticket Médio</th>\n",
              "    </tr>\n",
              "    <tr>\n",
              "      <th>ID Loja</th>\n",
              "      <th></th>\n",
              "      <th></th>\n",
              "      <th></th>\n",
              "    </tr>\n",
              "  </thead>\n",
              "  <tbody>\n",
              "    <tr>\n",
              "      <th>Shopping Midway Mall</th>\n",
              "      <td>8206</td>\n",
              "      <td>1590441</td>\n",
              "      <td>193.81</td>\n",
              "    </tr>\n",
              "  </tbody>\n",
              "</table>\n",
              "</div>"
            ],
            "text/plain": [
              "                      Quantidade  Valor Final  Ticket Médio\n",
              "ID Loja                                                    \n",
              "Shopping Midway Mall        8206      1590441        193.81"
            ]
          },
          "metadata": {
            "tags": []
          }
        },
        {
          "output_type": "stream",
          "text": [
            "Email enviado\n"
          ],
          "name": "stdout"
        },
        {
          "output_type": "display_data",
          "data": {
            "text/html": [
              "<div>\n",
              "<style scoped>\n",
              "    .dataframe tbody tr th:only-of-type {\n",
              "        vertical-align: middle;\n",
              "    }\n",
              "\n",
              "    .dataframe tbody tr th {\n",
              "        vertical-align: top;\n",
              "    }\n",
              "\n",
              "    .dataframe thead th {\n",
              "        text-align: right;\n",
              "    }\n",
              "</style>\n",
              "<table border=\"1\" class=\"dataframe\">\n",
              "  <thead>\n",
              "    <tr style=\"text-align: right;\">\n",
              "      <th></th>\n",
              "      <th>Quantidade</th>\n",
              "      <th>Valor Final</th>\n",
              "      <th>Ticket Médio</th>\n",
              "    </tr>\n",
              "    <tr>\n",
              "      <th>ID Loja</th>\n",
              "      <th></th>\n",
              "      <th></th>\n",
              "      <th></th>\n",
              "    </tr>\n",
              "  </thead>\n",
              "  <tbody>\n",
              "    <tr>\n",
              "      <th>Bourbon Shopping SP</th>\n",
              "      <td>8863</td>\n",
              "      <td>1726110</td>\n",
              "      <td>194.75</td>\n",
              "    </tr>\n",
              "  </tbody>\n",
              "</table>\n",
              "</div>"
            ],
            "text/plain": [
              "                     Quantidade  Valor Final  Ticket Médio\n",
              "ID Loja                                                   \n",
              "Bourbon Shopping SP        8863      1726110        194.75"
            ]
          },
          "metadata": {
            "tags": []
          }
        },
        {
          "output_type": "stream",
          "text": [
            "Email enviado\n"
          ],
          "name": "stdout"
        },
        {
          "output_type": "display_data",
          "data": {
            "text/html": [
              "<div>\n",
              "<style scoped>\n",
              "    .dataframe tbody tr th:only-of-type {\n",
              "        vertical-align: middle;\n",
              "    }\n",
              "\n",
              "    .dataframe tbody tr th {\n",
              "        vertical-align: top;\n",
              "    }\n",
              "\n",
              "    .dataframe thead th {\n",
              "        text-align: right;\n",
              "    }\n",
              "</style>\n",
              "<table border=\"1\" class=\"dataframe\">\n",
              "  <thead>\n",
              "    <tr style=\"text-align: right;\">\n",
              "      <th></th>\n",
              "      <th>Quantidade</th>\n",
              "      <th>Valor Final</th>\n",
              "      <th>Ticket Médio</th>\n",
              "    </tr>\n",
              "    <tr>\n",
              "      <th>ID Loja</th>\n",
              "      <th></th>\n",
              "      <th></th>\n",
              "      <th></th>\n",
              "    </tr>\n",
              "  </thead>\n",
              "  <tbody>\n",
              "    <tr>\n",
              "      <th>Shopping Center Interlagos</th>\n",
              "      <td>8675</td>\n",
              "      <td>1640486</td>\n",
              "      <td>189.11</td>\n",
              "    </tr>\n",
              "  </tbody>\n",
              "</table>\n",
              "</div>"
            ],
            "text/plain": [
              "                            Quantidade  Valor Final  Ticket Médio\n",
              "ID Loja                                                          \n",
              "Shopping Center Interlagos        8675      1640486        189.11"
            ]
          },
          "metadata": {
            "tags": []
          }
        },
        {
          "output_type": "stream",
          "text": [
            "Email enviado\n"
          ],
          "name": "stdout"
        },
        {
          "output_type": "display_data",
          "data": {
            "text/html": [
              "<div>\n",
              "<style scoped>\n",
              "    .dataframe tbody tr th:only-of-type {\n",
              "        vertical-align: middle;\n",
              "    }\n",
              "\n",
              "    .dataframe tbody tr th {\n",
              "        vertical-align: top;\n",
              "    }\n",
              "\n",
              "    .dataframe thead th {\n",
              "        text-align: right;\n",
              "    }\n",
              "</style>\n",
              "<table border=\"1\" class=\"dataframe\">\n",
              "  <thead>\n",
              "    <tr style=\"text-align: right;\">\n",
              "      <th></th>\n",
              "      <th>Quantidade</th>\n",
              "      <th>Valor Final</th>\n",
              "      <th>Ticket Médio</th>\n",
              "    </tr>\n",
              "    <tr>\n",
              "      <th>ID Loja</th>\n",
              "      <th></th>\n",
              "      <th></th>\n",
              "      <th></th>\n",
              "    </tr>\n",
              "  </thead>\n",
              "  <tbody>\n",
              "    <tr>\n",
              "      <th>Parque Dom Pedro Shopping</th>\n",
              "      <td>8388</td>\n",
              "      <td>1631630</td>\n",
              "      <td>194.52</td>\n",
              "    </tr>\n",
              "  </tbody>\n",
              "</table>\n",
              "</div>"
            ],
            "text/plain": [
              "                           Quantidade  Valor Final  Ticket Médio\n",
              "ID Loja                                                         \n",
              "Parque Dom Pedro Shopping        8388      1631630        194.52"
            ]
          },
          "metadata": {
            "tags": []
          }
        },
        {
          "output_type": "stream",
          "text": [
            "Email enviado\n"
          ],
          "name": "stdout"
        },
        {
          "output_type": "display_data",
          "data": {
            "text/html": [
              "<div>\n",
              "<style scoped>\n",
              "    .dataframe tbody tr th:only-of-type {\n",
              "        vertical-align: middle;\n",
              "    }\n",
              "\n",
              "    .dataframe tbody tr th {\n",
              "        vertical-align: top;\n",
              "    }\n",
              "\n",
              "    .dataframe thead th {\n",
              "        text-align: right;\n",
              "    }\n",
              "</style>\n",
              "<table border=\"1\" class=\"dataframe\">\n",
              "  <thead>\n",
              "    <tr style=\"text-align: right;\">\n",
              "      <th></th>\n",
              "      <th>Quantidade</th>\n",
              "      <th>Valor Final</th>\n",
              "      <th>Ticket Médio</th>\n",
              "    </tr>\n",
              "    <tr>\n",
              "      <th>ID Loja</th>\n",
              "      <th></th>\n",
              "      <th></th>\n",
              "      <th></th>\n",
              "    </tr>\n",
              "  </thead>\n",
              "  <tbody>\n",
              "    <tr>\n",
              "      <th>Center Shopping Uberlândia</th>\n",
              "      <td>8627</td>\n",
              "      <td>1668921</td>\n",
              "      <td>193.45</td>\n",
              "    </tr>\n",
              "  </tbody>\n",
              "</table>\n",
              "</div>"
            ],
            "text/plain": [
              "                            Quantidade  Valor Final  Ticket Médio\n",
              "ID Loja                                                          \n",
              "Center Shopping Uberlândia        8627      1668921        193.45"
            ]
          },
          "metadata": {
            "tags": []
          }
        },
        {
          "output_type": "stream",
          "text": [
            "Email enviado\n"
          ],
          "name": "stdout"
        },
        {
          "output_type": "display_data",
          "data": {
            "text/html": [
              "<div>\n",
              "<style scoped>\n",
              "    .dataframe tbody tr th:only-of-type {\n",
              "        vertical-align: middle;\n",
              "    }\n",
              "\n",
              "    .dataframe tbody tr th {\n",
              "        vertical-align: top;\n",
              "    }\n",
              "\n",
              "    .dataframe thead th {\n",
              "        text-align: right;\n",
              "    }\n",
              "</style>\n",
              "<table border=\"1\" class=\"dataframe\">\n",
              "  <thead>\n",
              "    <tr style=\"text-align: right;\">\n",
              "      <th></th>\n",
              "      <th>Quantidade</th>\n",
              "      <th>Valor Final</th>\n",
              "      <th>Ticket Médio</th>\n",
              "    </tr>\n",
              "    <tr>\n",
              "      <th>ID Loja</th>\n",
              "      <th></th>\n",
              "      <th></th>\n",
              "      <th></th>\n",
              "    </tr>\n",
              "  </thead>\n",
              "  <tbody>\n",
              "    <tr>\n",
              "      <th>Shopping União de Osasco</th>\n",
              "      <td>8730</td>\n",
              "      <td>1663770</td>\n",
              "      <td>190.58</td>\n",
              "    </tr>\n",
              "  </tbody>\n",
              "</table>\n",
              "</div>"
            ],
            "text/plain": [
              "                          Quantidade  Valor Final  Ticket Médio\n",
              "ID Loja                                                        \n",
              "Shopping União de Osasco        8730      1663770        190.58"
            ]
          },
          "metadata": {
            "tags": []
          }
        },
        {
          "output_type": "stream",
          "text": [
            "Email enviado\n"
          ],
          "name": "stdout"
        },
        {
          "output_type": "display_data",
          "data": {
            "text/html": [
              "<div>\n",
              "<style scoped>\n",
              "    .dataframe tbody tr th:only-of-type {\n",
              "        vertical-align: middle;\n",
              "    }\n",
              "\n",
              "    .dataframe tbody tr th {\n",
              "        vertical-align: top;\n",
              "    }\n",
              "\n",
              "    .dataframe thead th {\n",
              "        text-align: right;\n",
              "    }\n",
              "</style>\n",
              "<table border=\"1\" class=\"dataframe\">\n",
              "  <thead>\n",
              "    <tr style=\"text-align: right;\">\n",
              "      <th></th>\n",
              "      <th>Quantidade</th>\n",
              "      <th>Valor Final</th>\n",
              "      <th>Ticket Médio</th>\n",
              "    </tr>\n",
              "    <tr>\n",
              "      <th>ID Loja</th>\n",
              "      <th></th>\n",
              "      <th></th>\n",
              "      <th></th>\n",
              "    </tr>\n",
              "  </thead>\n",
              "  <tbody>\n",
              "    <tr>\n",
              "      <th>Shopping Eldorado</th>\n",
              "      <td>8719</td>\n",
              "      <td>1648111</td>\n",
              "      <td>189.03</td>\n",
              "    </tr>\n",
              "  </tbody>\n",
              "</table>\n",
              "</div>"
            ],
            "text/plain": [
              "                   Quantidade  Valor Final  Ticket Médio\n",
              "ID Loja                                                 \n",
              "Shopping Eldorado        8719      1648111        189.03"
            ]
          },
          "metadata": {
            "tags": []
          }
        },
        {
          "output_type": "stream",
          "text": [
            "Email enviado\n"
          ],
          "name": "stdout"
        },
        {
          "output_type": "display_data",
          "data": {
            "text/html": [
              "<div>\n",
              "<style scoped>\n",
              "    .dataframe tbody tr th:only-of-type {\n",
              "        vertical-align: middle;\n",
              "    }\n",
              "\n",
              "    .dataframe tbody tr th {\n",
              "        vertical-align: top;\n",
              "    }\n",
              "\n",
              "    .dataframe thead th {\n",
              "        text-align: right;\n",
              "    }\n",
              "</style>\n",
              "<table border=\"1\" class=\"dataframe\">\n",
              "  <thead>\n",
              "    <tr style=\"text-align: right;\">\n",
              "      <th></th>\n",
              "      <th>Quantidade</th>\n",
              "      <th>Valor Final</th>\n",
              "      <th>Ticket Médio</th>\n",
              "    </tr>\n",
              "    <tr>\n",
              "      <th>ID Loja</th>\n",
              "      <th></th>\n",
              "      <th></th>\n",
              "      <th></th>\n",
              "    </tr>\n",
              "  </thead>\n",
              "  <tbody>\n",
              "    <tr>\n",
              "      <th>Shopping Vila Velha</th>\n",
              "      <td>9224</td>\n",
              "      <td>1731167</td>\n",
              "      <td>187.68</td>\n",
              "    </tr>\n",
              "  </tbody>\n",
              "</table>\n",
              "</div>"
            ],
            "text/plain": [
              "                     Quantidade  Valor Final  Ticket Médio\n",
              "ID Loja                                                   \n",
              "Shopping Vila Velha        9224      1731167        187.68"
            ]
          },
          "metadata": {
            "tags": []
          }
        },
        {
          "output_type": "stream",
          "text": [
            "Email enviado\n"
          ],
          "name": "stdout"
        },
        {
          "output_type": "display_data",
          "data": {
            "text/html": [
              "<div>\n",
              "<style scoped>\n",
              "    .dataframe tbody tr th:only-of-type {\n",
              "        vertical-align: middle;\n",
              "    }\n",
              "\n",
              "    .dataframe tbody tr th {\n",
              "        vertical-align: top;\n",
              "    }\n",
              "\n",
              "    .dataframe thead th {\n",
              "        text-align: right;\n",
              "    }\n",
              "</style>\n",
              "<table border=\"1\" class=\"dataframe\">\n",
              "  <thead>\n",
              "    <tr style=\"text-align: right;\">\n",
              "      <th></th>\n",
              "      <th>Quantidade</th>\n",
              "      <th>Valor Final</th>\n",
              "      <th>Ticket Médio</th>\n",
              "    </tr>\n",
              "    <tr>\n",
              "      <th>ID Loja</th>\n",
              "      <th></th>\n",
              "      <th></th>\n",
              "      <th></th>\n",
              "    </tr>\n",
              "  </thead>\n",
              "  <tbody>\n",
              "    <tr>\n",
              "      <th>Novo Shopping Ribeirão Preto</th>\n",
              "      <td>8751</td>\n",
              "      <td>1678225</td>\n",
              "      <td>191.78</td>\n",
              "    </tr>\n",
              "  </tbody>\n",
              "</table>\n",
              "</div>"
            ],
            "text/plain": [
              "                              Quantidade  Valor Final  Ticket Médio\n",
              "ID Loja                                                            \n",
              "Novo Shopping Ribeirão Preto        8751      1678225        191.78"
            ]
          },
          "metadata": {
            "tags": []
          }
        },
        {
          "output_type": "stream",
          "text": [
            "Email enviado\n"
          ],
          "name": "stdout"
        },
        {
          "output_type": "display_data",
          "data": {
            "text/html": [
              "<div>\n",
              "<style scoped>\n",
              "    .dataframe tbody tr th:only-of-type {\n",
              "        vertical-align: middle;\n",
              "    }\n",
              "\n",
              "    .dataframe tbody tr th {\n",
              "        vertical-align: top;\n",
              "    }\n",
              "\n",
              "    .dataframe thead th {\n",
              "        text-align: right;\n",
              "    }\n",
              "</style>\n",
              "<table border=\"1\" class=\"dataframe\">\n",
              "  <thead>\n",
              "    <tr style=\"text-align: right;\">\n",
              "      <th></th>\n",
              "      <th>Quantidade</th>\n",
              "      <th>Valor Final</th>\n",
              "      <th>Ticket Médio</th>\n",
              "    </tr>\n",
              "    <tr>\n",
              "      <th>ID Loja</th>\n",
              "      <th></th>\n",
              "      <th></th>\n",
              "      <th></th>\n",
              "    </tr>\n",
              "  </thead>\n",
              "  <tbody>\n",
              "    <tr>\n",
              "      <th>Rio Mar Recife</th>\n",
              "      <td>8863</td>\n",
              "      <td>1722766</td>\n",
              "      <td>194.38</td>\n",
              "    </tr>\n",
              "  </tbody>\n",
              "</table>\n",
              "</div>"
            ],
            "text/plain": [
              "                Quantidade  Valor Final  Ticket Médio\n",
              "ID Loja                                              \n",
              "Rio Mar Recife        8863      1722766        194.38"
            ]
          },
          "metadata": {
            "tags": []
          }
        },
        {
          "output_type": "stream",
          "text": [
            "Email enviado\n"
          ],
          "name": "stdout"
        },
        {
          "output_type": "display_data",
          "data": {
            "text/html": [
              "<div>\n",
              "<style scoped>\n",
              "    .dataframe tbody tr th:only-of-type {\n",
              "        vertical-align: middle;\n",
              "    }\n",
              "\n",
              "    .dataframe tbody tr th {\n",
              "        vertical-align: top;\n",
              "    }\n",
              "\n",
              "    .dataframe thead th {\n",
              "        text-align: right;\n",
              "    }\n",
              "</style>\n",
              "<table border=\"1\" class=\"dataframe\">\n",
              "  <thead>\n",
              "    <tr style=\"text-align: right;\">\n",
              "      <th></th>\n",
              "      <th>Quantidade</th>\n",
              "      <th>Valor Final</th>\n",
              "      <th>Ticket Médio</th>\n",
              "    </tr>\n",
              "    <tr>\n",
              "      <th>ID Loja</th>\n",
              "      <th></th>\n",
              "      <th></th>\n",
              "      <th></th>\n",
              "    </tr>\n",
              "  </thead>\n",
              "  <tbody>\n",
              "    <tr>\n",
              "      <th>Palladium Shopping Curitiba</th>\n",
              "      <td>9091</td>\n",
              "      <td>1721120</td>\n",
              "      <td>189.32</td>\n",
              "    </tr>\n",
              "  </tbody>\n",
              "</table>\n",
              "</div>"
            ],
            "text/plain": [
              "                             Quantidade  Valor Final  Ticket Médio\n",
              "ID Loja                                                           \n",
              "Palladium Shopping Curitiba        9091      1721120        189.32"
            ]
          },
          "metadata": {
            "tags": []
          }
        },
        {
          "output_type": "stream",
          "text": [
            "Email enviado\n"
          ],
          "name": "stdout"
        },
        {
          "output_type": "display_data",
          "data": {
            "text/html": [
              "<div>\n",
              "<style scoped>\n",
              "    .dataframe tbody tr th:only-of-type {\n",
              "        vertical-align: middle;\n",
              "    }\n",
              "\n",
              "    .dataframe tbody tr th {\n",
              "        vertical-align: top;\n",
              "    }\n",
              "\n",
              "    .dataframe thead th {\n",
              "        text-align: right;\n",
              "    }\n",
              "</style>\n",
              "<table border=\"1\" class=\"dataframe\">\n",
              "  <thead>\n",
              "    <tr style=\"text-align: right;\">\n",
              "      <th></th>\n",
              "      <th>Quantidade</th>\n",
              "      <th>Valor Final</th>\n",
              "      <th>Ticket Médio</th>\n",
              "    </tr>\n",
              "    <tr>\n",
              "      <th>ID Loja</th>\n",
              "      <th></th>\n",
              "      <th></th>\n",
              "      <th></th>\n",
              "    </tr>\n",
              "  </thead>\n",
              "  <tbody>\n",
              "    <tr>\n",
              "      <th>Shopping SP Market</th>\n",
              "      <td>8927</td>\n",
              "      <td>1721763</td>\n",
              "      <td>192.87</td>\n",
              "    </tr>\n",
              "  </tbody>\n",
              "</table>\n",
              "</div>"
            ],
            "text/plain": [
              "                    Quantidade  Valor Final  Ticket Médio\n",
              "ID Loja                                                  \n",
              "Shopping SP Market        8927      1721763        192.87"
            ]
          },
          "metadata": {
            "tags": []
          }
        },
        {
          "output_type": "stream",
          "text": [
            "Email enviado\n"
          ],
          "name": "stdout"
        },
        {
          "output_type": "display_data",
          "data": {
            "text/html": [
              "<div>\n",
              "<style scoped>\n",
              "    .dataframe tbody tr th:only-of-type {\n",
              "        vertical-align: middle;\n",
              "    }\n",
              "\n",
              "    .dataframe tbody tr th {\n",
              "        vertical-align: top;\n",
              "    }\n",
              "\n",
              "    .dataframe thead th {\n",
              "        text-align: right;\n",
              "    }\n",
              "</style>\n",
              "<table border=\"1\" class=\"dataframe\">\n",
              "  <thead>\n",
              "    <tr style=\"text-align: right;\">\n",
              "      <th></th>\n",
              "      <th>Quantidade</th>\n",
              "      <th>Valor Final</th>\n",
              "      <th>Ticket Médio</th>\n",
              "    </tr>\n",
              "    <tr>\n",
              "      <th>ID Loja</th>\n",
              "      <th></th>\n",
              "      <th></th>\n",
              "      <th></th>\n",
              "    </tr>\n",
              "  </thead>\n",
              "  <tbody>\n",
              "    <tr>\n",
              "      <th>Ribeirão Shopping</th>\n",
              "      <td>8825</td>\n",
              "      <td>1707122</td>\n",
              "      <td>193.44</td>\n",
              "    </tr>\n",
              "  </tbody>\n",
              "</table>\n",
              "</div>"
            ],
            "text/plain": [
              "                   Quantidade  Valor Final  Ticket Médio\n",
              "ID Loja                                                 \n",
              "Ribeirão Shopping        8825      1707122        193.44"
            ]
          },
          "metadata": {
            "tags": []
          }
        },
        {
          "output_type": "stream",
          "text": [
            "Email enviado\n"
          ],
          "name": "stdout"
        },
        {
          "output_type": "display_data",
          "data": {
            "text/html": [
              "<div>\n",
              "<style scoped>\n",
              "    .dataframe tbody tr th:only-of-type {\n",
              "        vertical-align: middle;\n",
              "    }\n",
              "\n",
              "    .dataframe tbody tr th {\n",
              "        vertical-align: top;\n",
              "    }\n",
              "\n",
              "    .dataframe thead th {\n",
              "        text-align: right;\n",
              "    }\n",
              "</style>\n",
              "<table border=\"1\" class=\"dataframe\">\n",
              "  <thead>\n",
              "    <tr style=\"text-align: right;\">\n",
              "      <th></th>\n",
              "      <th>Quantidade</th>\n",
              "      <th>Valor Final</th>\n",
              "      <th>Ticket Médio</th>\n",
              "    </tr>\n",
              "    <tr>\n",
              "      <th>ID Loja</th>\n",
              "      <th></th>\n",
              "      <th></th>\n",
              "      <th></th>\n",
              "    </tr>\n",
              "  </thead>\n",
              "  <tbody>\n",
              "    <tr>\n",
              "      <th>Shopping Iguatemi Fortaleza</th>\n",
              "      <td>8629</td>\n",
              "      <td>1674824</td>\n",
              "      <td>194.09</td>\n",
              "    </tr>\n",
              "  </tbody>\n",
              "</table>\n",
              "</div>"
            ],
            "text/plain": [
              "                             Quantidade  Valor Final  Ticket Médio\n",
              "ID Loja                                                           \n",
              "Shopping Iguatemi Fortaleza        8629      1674824        194.09"
            ]
          },
          "metadata": {
            "tags": []
          }
        },
        {
          "output_type": "stream",
          "text": [
            "Email enviado\n"
          ],
          "name": "stdout"
        },
        {
          "output_type": "display_data",
          "data": {
            "text/html": [
              "<div>\n",
              "<style scoped>\n",
              "    .dataframe tbody tr th:only-of-type {\n",
              "        vertical-align: middle;\n",
              "    }\n",
              "\n",
              "    .dataframe tbody tr th {\n",
              "        vertical-align: top;\n",
              "    }\n",
              "\n",
              "    .dataframe thead th {\n",
              "        text-align: right;\n",
              "    }\n",
              "</style>\n",
              "<table border=\"1\" class=\"dataframe\">\n",
              "  <thead>\n",
              "    <tr style=\"text-align: right;\">\n",
              "      <th></th>\n",
              "      <th>Quantidade</th>\n",
              "      <th>Valor Final</th>\n",
              "      <th>Ticket Médio</th>\n",
              "    </tr>\n",
              "    <tr>\n",
              "      <th>ID Loja</th>\n",
              "      <th></th>\n",
              "      <th></th>\n",
              "      <th></th>\n",
              "    </tr>\n",
              "  </thead>\n",
              "  <tbody>\n",
              "    <tr>\n",
              "      <th>Shopping Morumbi</th>\n",
              "      <td>8508</td>\n",
              "      <td>1586444</td>\n",
              "      <td>186.46</td>\n",
              "    </tr>\n",
              "  </tbody>\n",
              "</table>\n",
              "</div>"
            ],
            "text/plain": [
              "                  Quantidade  Valor Final  Ticket Médio\n",
              "ID Loja                                                \n",
              "Shopping Morumbi        8508      1586444        186.46"
            ]
          },
          "metadata": {
            "tags": []
          }
        },
        {
          "output_type": "stream",
          "text": [
            "Email enviado\n"
          ],
          "name": "stdout"
        },
        {
          "output_type": "display_data",
          "data": {
            "text/html": [
              "<div>\n",
              "<style scoped>\n",
              "    .dataframe tbody tr th:only-of-type {\n",
              "        vertical-align: middle;\n",
              "    }\n",
              "\n",
              "    .dataframe tbody tr th {\n",
              "        vertical-align: top;\n",
              "    }\n",
              "\n",
              "    .dataframe thead th {\n",
              "        text-align: right;\n",
              "    }\n",
              "</style>\n",
              "<table border=\"1\" class=\"dataframe\">\n",
              "  <thead>\n",
              "    <tr style=\"text-align: right;\">\n",
              "      <th></th>\n",
              "      <th>Quantidade</th>\n",
              "      <th>Valor Final</th>\n",
              "      <th>Ticket Médio</th>\n",
              "    </tr>\n",
              "    <tr>\n",
              "      <th>ID Loja</th>\n",
              "      <th></th>\n",
              "      <th></th>\n",
              "      <th></th>\n",
              "    </tr>\n",
              "  </thead>\n",
              "  <tbody>\n",
              "    <tr>\n",
              "      <th>Salvador Shopping</th>\n",
              "      <td>8698</td>\n",
              "      <td>1646739</td>\n",
              "      <td>189.32</td>\n",
              "    </tr>\n",
              "  </tbody>\n",
              "</table>\n",
              "</div>"
            ],
            "text/plain": [
              "                   Quantidade  Valor Final  Ticket Médio\n",
              "ID Loja                                                 \n",
              "Salvador Shopping        8698      1646739        189.32"
            ]
          },
          "metadata": {
            "tags": []
          }
        },
        {
          "output_type": "stream",
          "text": [
            "Email enviado\n"
          ],
          "name": "stdout"
        }
      ]
    }
  ]
}